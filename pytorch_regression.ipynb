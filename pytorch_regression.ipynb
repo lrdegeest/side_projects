{
 "cells": [
  {
   "cell_type": "code",
   "execution_count": 1,
   "id": "b9346b8e-6d42-40db-a0da-680f66b92570",
   "metadata": {},
   "outputs": [],
   "source": [
    "import torch\n",
    "import numpy as np\n",
    "import pandas as pd\n",
    "import matplotlib.pyplot as plt\n",
    "%matplotlib inline  "
   ]
  },
  {
   "cell_type": "markdown",
   "id": "83165660-1309-4526-a7d3-c644a8c5410e",
   "metadata": {},
   "source": [
    "# Data"
   ]
  },
  {
   "cell_type": "code",
   "execution_count": 2,
   "id": "433eab67-863d-4d81-b25f-5c63f1e633e0",
   "metadata": {},
   "outputs": [],
   "source": [
    "N = 100\n",
    "X = np.random.normal(0,1,N)\n",
    "e = np.random.normal(0,1,N)\n",
    "b_true = 10.\n",
    "Y = 0 + b_true*X + e"
   ]
  },
  {
   "cell_type": "code",
   "execution_count": 3,
   "id": "3d285fc7-f436-4b5d-9276-d7ee3607cc21",
   "metadata": {},
   "outputs": [
    {
     "data": {
      "image/png": "[encoded data removed]",
      "text/plain": [
       "<Figure size 640x480 with 1 Axes>"
      ]
     },
     "metadata": {},
     "output_type": "display_data"
    }
   ],
   "source": [
    "plt.plot(X, Y, 'o', alpha = 0.75)\n",
    "plt.xlabel(\"X\")\n",
    "plt.ylabel(\"Y = f(X)\")\n",
    "plt.show()"
   ]
  },
  {
   "cell_type": "markdown",
   "id": "17a1b8df-8e88-4f6e-93fc-31f12718d459",
   "metadata": {},
   "source": [
    "# Numpy"
   ]
  },
  {
   "cell_type": "code",
   "execution_count": 4,
   "id": "4275574f-9f9f-415a-b410-f3257f28c668",
   "metadata": {},
   "outputs": [
    {
     "data": {
      "text/plain": [
       "9.9575"
      ]
     },
     "execution_count": 4,
     "metadata": {},
     "output_type": "execute_result"
    }
   ],
   "source": [
    "def dL(beta, x, y):\n",
    "    return np.mean(x * (x*beta - y))\n",
    "\n",
    "grad_list = []\n",
    "b_list = []\n",
    "\n",
    "b = -30.\n",
    "\n",
    "step_size = 0.1\n",
    "\n",
    "for i in range(100):\n",
    "    b_list.append(b)\n",
    "    dLdb = dL(beta = b, x = X, y= Y)\n",
    "    grad_list.append(dLdb)\n",
    "    b -= step_size * dLdb\n",
    "    \n",
    "np.round(b, 4)"
   ]
  },
  {
   "cell_type": "markdown",
   "id": "2aa9d6d4-beb9-4c37-90fd-8510970ab245",
   "metadata": {},
   "source": [
    "# Torch"
   ]
  },
  {
   "cell_type": "code",
   "execution_count": 5,
   "id": "215cba58-4b74-42d8-891f-aa1d75f55d5a",
   "metadata": {},
   "outputs": [
    {
     "data": {
      "text/plain": [
       "9.9575"
      ]
     },
     "execution_count": 5,
     "metadata": {},
     "output_type": "execute_result"
    }
   ],
   "source": [
    "Xt = torch.tensor(X)\n",
    "Yt = torch.tensor(Y)\n",
    "\n",
    "def L(beta, x, y):\n",
    "    return 1/(2*N) * torch.sum((x*beta - y) ** 2)\n",
    "\n",
    "b_list2 = []\n",
    "grad_list2 = []\n",
    "\n",
    "b = torch.tensor(-30., requires_grad = True)\n",
    "\n",
    "for i in range(100):\n",
    "    b_list2.append(np.array(b.data))\n",
    "    loss = L(beta = b, x = Xt, y = Yt)\n",
    "    loss.backward()\n",
    "    grad_list2.append(np.array(b.grad.data))\n",
    "    b.data -= step_size * b.grad.data\n",
    "    b.grad.data.zero_()\n",
    "    \n",
    "np.round(b.detach().numpy(),4)"
   ]
  },
  {
   "cell_type": "markdown",
   "id": "d596881c-542a-48c6-8f2a-620e7e6dd2e8",
   "metadata": {},
   "source": [
    "# Compare"
   ]
  },
  {
   "cell_type": "code",
   "execution_count": 6,
   "id": "f3c13942-af59-444b-86e4-8a9eb46a96b2",
   "metadata": {},
   "outputs": [
    {
     "data": {
      "text/html": [
       "<div>\n",
       "<style scoped>\n",
       "    .dataframe tbody tr th:only-of-type {\n",
       "        vertical-align: middle;\n",
       "    }\n",
       "\n",
       "    .dataframe tbody tr th {\n",
       "        vertical-align: top;\n",
       "    }\n",
       "\n",
       "    .dataframe thead th {\n",
       "        text-align: right;\n",
       "    }\n",
       "</style>\n",
       "<table border=\"1\" class=\"dataframe\">\n",
       "  <thead>\n",
       "    <tr style=\"text-align: right;\">\n",
       "      <th></th>\n",
       "      <th>grad_np</th>\n",
       "      <th>grad_torch</th>\n",
       "      <th>beta_hat_np</th>\n",
       "      <th>beta_hat_torch</th>\n",
       "    </tr>\n",
       "  </thead>\n",
       "  <tbody>\n",
       "    <tr>\n",
       "      <th>0</th>\n",
       "      <td>-38.356251</td>\n",
       "      <td>-38.35625</td>\n",
       "      <td>-30.000000</td>\n",
       "      <td>-30.0</td>\n",
       "    </tr>\n",
       "    <tr>\n",
       "      <th>1</th>\n",
       "      <td>-34.674486</td>\n",
       "      <td>-34.674484</td>\n",
       "      <td>-26.164375</td>\n",
       "      <td>-26.164375</td>\n",
       "    </tr>\n",
       "    <tr>\n",
       "      <th>2</th>\n",
       "      <td>-31.346127</td>\n",
       "      <td>-31.346127</td>\n",
       "      <td>-22.696926</td>\n",
       "      <td>-22.696926</td>\n",
       "    </tr>\n",
       "    <tr>\n",
       "      <th>3</th>\n",
       "      <td>-28.337254</td>\n",
       "      <td>-28.337254</td>\n",
       "      <td>-19.562314</td>\n",
       "      <td>-19.562313</td>\n",
       "    </tr>\n",
       "    <tr>\n",
       "      <th>4</th>\n",
       "      <td>-25.617198</td>\n",
       "      <td>-25.617199</td>\n",
       "      <td>-16.728588</td>\n",
       "      <td>-16.728588</td>\n",
       "    </tr>\n",
       "  </tbody>\n",
       "</table>\n",
       "</div>"
      ],
      "text/plain": [
       "     grad_np  grad_torch  beta_hat_np beta_hat_torch\n",
       "0 -38.356251   -38.35625   -30.000000          -30.0\n",
       "1 -34.674486  -34.674484   -26.164375     -26.164375\n",
       "2 -31.346127  -31.346127   -22.696926     -22.696926\n",
       "3 -28.337254  -28.337254   -19.562314     -19.562313\n",
       "4 -25.617198  -25.617199   -16.728588     -16.728588"
      ]
     },
     "execution_count": 6,
     "metadata": {},
     "output_type": "execute_result"
    }
   ],
   "source": [
    "df = pd.DataFrame({'grad_np':  grad_list, \n",
    "                   'grad_torch': grad_list2,\n",
    "                   'beta_hat_np': b_list,\n",
    "                   'beta_hat_torch': b_list2})\n",
    "df.head()"
   ]
  },
  {
   "cell_type": "markdown",
   "id": "3c073c5f-8d8e-4d1e-ae67-f93ccff0579b",
   "metadata": {},
   "source": [
    "# Torch syntax"
   ]
  },
  {
   "cell_type": "code",
   "execution_count": 7,
   "id": "001a5688-d363-44f5-8628-4234f598c7b3",
   "metadata": {},
   "outputs": [],
   "source": [
    "N = 100\n",
    "X = np.random.normal(0,1,N).reshape(-1,1)\n",
    "e = np.random.normal(0,1,N).reshape(-1,1)\n",
    "b_true = 10.\n",
    "Y = 0 + b_true*X + e\n",
    "\n",
    "Yt = torch.tensor(Y, dtype = torch.float32)\n",
    "Xt = torch.tensor(X, dtype = torch.float32)"
   ]
  },
  {
   "cell_type": "code",
   "execution_count": 8,
   "id": "a8b75140-e746-4862-9eb2-9a6e47f940ad",
   "metadata": {},
   "outputs": [],
   "source": [
    "class LinReg(torch.nn.Module):\n",
    "    def __init__(self, inputSize, outputSize):\n",
    "        super(LinReg, self).__init__()\n",
    "        self.linear = torch.nn.Linear(inputSize, outputSize)\n",
    "\n",
    "    def forward(self, x):\n",
    "        yhat = self.linear(x)\n",
    "        return yhat"
   ]
  },
  {
   "cell_type": "code",
   "execution_count": 9,
   "id": "07c64dec-4079-4d4c-b1dc-81ae1045b4cd",
   "metadata": {
    "tags": []
   },
   "outputs": [],
   "source": [
    "model = LinReg(inputSize = 1, outputSize = 1)\n",
    "loss_function = torch.nn.MSELoss() \n",
    "optimizer = torch.optim.SGD(model.parameters(), lr=0.1)"
   ]
  },
  {
   "cell_type": "code",
   "execution_count": 10,
   "id": "51899300-65ea-4b7d-961b-8c01f9f1ead2",
   "metadata": {},
   "outputs": [],
   "source": [
    "for i in range(100):\n",
    "    optimizer.zero_grad()\n",
    "    Yhat = model(Xt)\n",
    "    loss = loss_function(Yhat, Yt)\n",
    "    loss.backward()\n",
    "    optimizer.step()"
   ]
  },
  {
   "cell_type": "code",
   "execution_count": 11,
   "id": "e9aa58e8-2c8a-4e3b-9f63-8674a1493c70",
   "metadata": {},
   "outputs": [
    {
     "name": "stdout",
     "output_type": "stream",
     "text": [
      "linear.weight Parameter containing:\n",
      "tensor([[10.0145]], requires_grad=True)\n",
      "linear.bias Parameter containing:\n",
      "tensor([-0.0489], requires_grad=True)\n"
     ]
    }
   ],
   "source": [
    "for name, param in model.named_parameters():\n",
    "    print(name, param)"
   ]
  },
  {
   "cell_type": "markdown",
   "id": "4a03a720-aacb-4d7c-b316-5198b94b51a1",
   "metadata": {
    "tags": []
   },
   "source": [
    "# Multiple Regression"
   ]
  },
  {
   "cell_type": "code",
   "execution_count": 12,
   "id": "985efd7e-3310-415e-9302-9a0ec4c12f17",
   "metadata": {},
   "outputs": [],
   "source": [
    "N = int(1e3)\n",
    "beta_true = np.array([1., 5., 10.])\n",
    "x1, x2, e = np.random.normal(0,1,N), np.random.normal(0,1,N), np.random.normal(0,1,N)\n",
    "X = np.array([np.ones(N), x1, x2]).T\n",
    "Y = X @ beta_true + e"
   ]
  },
  {
   "cell_type": "code",
   "execution_count": 13,
   "id": "98d7f942-a9a3-4ab8-9435-f4460851ceb6",
   "metadata": {},
   "outputs": [
    {
     "data": {
      "text/plain": [
       "array([1.00259875, 4.97652367, 9.93077973])"
      ]
     },
     "execution_count": 13,
     "metadata": {},
     "output_type": "execute_result"
    }
   ],
   "source": [
    "#(x'x)^-1 x'y\n",
    "np.linalg.inv(X.T @ X) @ (X.T @ Y)"
   ]
  },
  {
   "cell_type": "code",
   "execution_count": 14,
   "id": "e1d2b3d0-405c-4701-a853-8935e1872d1f",
   "metadata": {},
   "outputs": [
    {
     "data": {
      "text/plain": [
       "tensor([1.0026, 4.9765, 9.9308], dtype=torch.float64, requires_grad=True)"
      ]
     },
     "execution_count": 14,
     "metadata": {},
     "output_type": "execute_result"
    }
   ],
   "source": [
    "Xt = torch.tensor(X)\n",
    "Yt = torch.tensor(Y)\n",
    "b = torch.tensor([-20.0, 300., 50.], requires_grad=True, dtype = torch.float64)\n",
    "\n",
    "def predict(data, parameters):\n",
    "    return data @ parameters\n",
    "\n",
    "def L(yhat, y):\n",
    "    return torch.mean((yhat - y) ** 2)\n",
    "\n",
    "step_size = 0.1\n",
    "\n",
    "for i in range(200):\n",
    "    Yhat = predict(data = Xt, parameters = b)\n",
    "    loss = L(yhat = Yhat, y = Yt)\n",
    "    loss.backward()\n",
    "    b.data -= step_size * b.grad.data\n",
    "    b.grad.data.zero_()\n",
    "\n",
    "b"
   ]
  }
 ],
 "metadata": {
  "kernelspec": {
   "display_name": "Python 3 (ipykernel)",
   "language": "python",
   "name": "python3"
  },
  "language_info": {
   "codemirror_mode": {
    "name": "ipython",
    "version": 3
   },
   "file_extension": ".py",
   "mimetype": "text/x-python",
   "name": "python",
   "nbconvert_exporter": "python",
   "pygments_lexer": "ipython3",
   "version": "3.9.13"
  }
 },
 "nbformat": 4,
 "nbformat_minor": 5
}
